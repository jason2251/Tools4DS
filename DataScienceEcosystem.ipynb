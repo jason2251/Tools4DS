{
 "cells": [
  {
   "cell_type": "markdown",
   "id": "64c2b8a2-130e-4a77-8938-5fa580868f55",
   "metadata": {},
   "source": [
    "## Data Science Tools and Ecosystem \n"
   ]
  },
  {
   "cell_type": "markdown",
   "id": "f85beec6-394f-4350-a2af-cd271860cd0d",
   "metadata": {},
   "source": [
    "### In this notebook, Data Science Tools and Ecosystem are summarized."
   ]
  },
  {
   "cell_type": "markdown",
   "id": "b1665f46-9777-4e5b-877d-a4cc52f0283f",
   "metadata": {},
   "source": [
    "#### Some of the popular languages that Data Scientists use are:\n",
    "1. Python\n",
    "2. R\n",
    "3. Scala"
   ]
  },
  {
   "cell_type": "markdown",
   "id": "ed33090c-894e-46ad-a058-5b2590cb2cd2",
   "metadata": {},
   "source": [
    "#### Some of the commonly used libraries used by Data Scientists include:\n",
    "1. ggplot\n",
    "2. numpy\n",
    "3. pandas"
   ]
  },
  {
   "cell_type": "markdown",
   "id": "7930dbcd-7c43-424c-8778-c5e6b214dae6",
   "metadata": {},
   "source": [
    "| Data Science Tools   |\n",
    "|----------------------|\n",
    "| Jupyter Notebooks     |\n",
    "| RStudio              |\n",
    "| VS Code              |"
   ]
  },
  {
   "cell_type": "markdown",
   "id": "2a538c87-b47b-4c2f-a1bc-4cf4e7bbae78",
   "metadata": {},
   "source": [
    "#### Below are a few examples of evaluating arithmetic expressions in Python\n"
   ]
  },
  {
   "cell_type": "markdown",
   "id": "afd1b501-9bb4-4c02-8bc9-5d1a7c0472b7",
   "metadata": {},
   "source": [
    "#### This a simple arithmetic expression to mutiply then add integers"
   ]
  },
  {
   "cell_type": "code",
   "execution_count": 3,
   "id": "77d0d978-38ca-4174-bde4-c85c5be9af65",
   "metadata": {},
   "outputs": [
    {
     "data": {
      "text/plain": [
       "17"
      ]
     },
     "execution_count": 3,
     "metadata": {},
     "output_type": "execute_result"
    }
   ],
   "source": [
    "result = (3*4)+5\n",
    "result"
   ]
  },
  {
   "cell_type": "code",
   "execution_count": 5,
   "id": "2f7f3d9e-42d5-4641-ab42-87bf56a95885",
   "metadata": {},
   "outputs": [
    {
     "data": {
      "text/plain": [
       "12000"
      ]
     },
     "execution_count": 5,
     "metadata": {},
     "output_type": "execute_result"
    }
   ],
   "source": [
    "#This will convert 200 minutes to hours by diving by 60\n",
    "convert = 200 * 60\n",
    "convert"
   ]
  },
  {
   "cell_type": "markdown",
   "id": "d91aa718-6f05-4b19-a027-80a1ef0b2f31",
   "metadata": {},
   "source": [
    "**Objectives:**\n",
    "\n",
    "- List popular languages for Data Science.\n",
    "- List some commonly used libraries by Data Scientists\n",
    "- List some data science tools\n",
    "- Introduce arithmetic expression examples\n",
    "- Create table and list at Jupyter Notebook"
   ]
  },
  {
   "cell_type": "markdown",
   "id": "13328bb9-e7ac-4ad7-b089-84d18067d882",
   "metadata": {},
   "source": [
    "### Author\n",
    "#### Jason Lau"
   ]
  },
  {
   "cell_type": "code",
   "execution_count": null,
   "id": "aa9b995e-0fc7-4099-9809-aba4f61dc6ab",
   "metadata": {},
   "outputs": [],
   "source": []
  }
 ],
 "metadata": {
  "kernelspec": {
   "display_name": "Python 3 (ipykernel)",
   "language": "python",
   "name": "python3"
  },
  "language_info": {
   "codemirror_mode": {
    "name": "ipython",
    "version": 3
   },
   "file_extension": ".py",
   "mimetype": "text/x-python",
   "name": "python",
   "nbconvert_exporter": "python",
   "pygments_lexer": "ipython3",
   "version": "3.11.9"
  }
 },
 "nbformat": 4,
 "nbformat_minor": 5
}
